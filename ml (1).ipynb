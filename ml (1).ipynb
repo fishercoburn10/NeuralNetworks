{
  "nbformat": 4,
  "nbformat_minor": 0,
  "metadata": {
    "colab": {
      "provenance": [],
      "toc_visible": true
    },
    "kernelspec": {
      "name": "python3",
      "display_name": "Python 3"
    },
    "language_info": {
      "name": "python"
    }
  },
  "cells": [
    {
      "cell_type": "markdown",
      "metadata": {
        "id": "gdxizjgrHgOr"
      },
      "source": [
        "\n",
        "\n",
        "\n",
        "# Machine Learning\n",
        "\n",
        "There are four sections below, corresponding to coding assignments. Implement and test.\n"
      ]
    },
    {
      "cell_type": "markdown",
      "metadata": {
        "id": "GbKbsml_uBKi"
      },
      "source": [
        "\n",
        "# Decision Tree: Infogain\n",
        "\n"
      ]
    },
    {
      "cell_type": "code",
      "metadata": {
        "colab": {
          "base_uri": "https://localhost:8080/"
        },
        "id": "OBpYuDFXdPit",
        "outputId": "ea15e29c-c951-4f40-9c8d-b0406031af20"
      },
      "source": [
        "'''\n",
        "Decision tree: Infogain\n",
        "\n",
        "- implement the functions in this code for the infogain problem.\n",
        "\n",
        "'''\n",
        "\n",
        "import math\n",
        "import numpy as np\n",
        "\n",
        "#--------------------------\n",
        "# my_log function: implement this and use it in entropy()\n",
        "#--------------------------\n",
        "def my_log(val):\n",
        "  if val == 0:\n",
        "    return 0\n",
        "\n",
        "  # must take care of the val=0 case.\n",
        "  # - right now it will cause an error when my_log(0) is called.\n",
        "  return math.log2(val)\n",
        "\n",
        "\n",
        "#--------------------------\n",
        "# entropy function: implement this and use it in infogain()\n",
        "#--------------------------\n",
        "def entropy(pos_neg):\n",
        "  pos = pos_neg[0]\n",
        "  neg = pos_neg[1]\n",
        "  total = pos + neg\n",
        "\n",
        "  if total == 0: # avoid division by zero\n",
        "      return 0\n",
        "\n",
        "  prob_pos = pos / total if pos != 0 else 0\n",
        "  prob_neg = neg / total if neg != 0 else 0\n",
        "\n",
        "  # Debugging print statements\n",
        "  print('entropy() called with pos_neg:', pos_neg)\n",
        "  print(' prob_pos =', prob_pos, 'prob_neg =', prob_neg)\n",
        "\n",
        "\n",
        "  # Compute and return entropy\n",
        "  return -prob_pos * my_log(prob_pos) - prob_neg * my_log(prob_neg)\n",
        "\n",
        "#--------------------------\n",
        "# infogain function: define this and test\n",
        "#--------------------------\n",
        "def infogain (before, after):\n",
        "\n",
        "  print('infogain() called with before:', before, 'after:', after)\n",
        "\n",
        "  # 1. Entropy before split\n",
        "  initial_entropy = entropy(before)\n",
        "  print(' Initial entropy:', initial_entropy)\n",
        "\n",
        "  # 2. Entropy after split\n",
        "  total_samples = sum([sum(split) for split in after])\n",
        "  weighted_entropy = sum([(sum(split) / total_samples) * entropy(split) for split in after])\n",
        "\n",
        "  # 3. Compute information gain\n",
        "  gain = initial_entropy - weighted_entropy\n",
        "  print(' Weighted entropy after split:', weighted_entropy)\n",
        "\n",
        "  # 4. Return gain\n",
        "  return gain\n",
        "\n",
        "#--------------------------\n",
        "# test entropy\n",
        "#--------------------------\n",
        "print(entropy([10,10]))\n",
        "print(entropy([2,5]))\n",
        "\n",
        "#--------------------------\n",
        "# test infogain\n",
        "#--------------------------\n",
        "pre = [6,6]\n",
        "post  = [ [0,2], [4,0], [2,4] ]\n",
        "print('\\n\\nFinal Answer: ')\n",
        "print(infogain(pre, post))"
      ],
      "execution_count": null,
      "outputs": [
        {
          "output_type": "stream",
          "name": "stdout",
          "text": [
            "entropy()\n",
            " prob_pos = 0.5\n",
            "None\n",
            "entropy()\n",
            " prob_pos = 0.2857142857142857\n",
            "None\n",
            "\n",
            "\n",
            "\n",
            "infogain()\n",
            "entropy()\n",
            " prob_pos = 0.5\n",
            "None\n",
            "entropy()\n",
            " prob_pos = 0.0\n",
            "None\n",
            "entropy()\n",
            " prob_pos = 1.0\n",
            "None\n",
            "entropy()\n",
            " prob_pos = 0.3333333333333333\n",
            "None\n",
            "None\n"
          ]
        }
      ]
    },
    {
      "cell_type": "code",
      "metadata": {
        "id": "iJwJ0ppGGqO7"
      },
      "source": [
        "# Add your test code here, for the homework questions\n",
        "\n",
        "pre_patrons = [6, 6] # 6 positives, 6 negatives\n",
        "\n",
        "#patrons\n",
        "post_patrons = [[0, 2], # None: 0 positives, 2 negatives\n",
        "                [4, 0], # Some: 4 positives, 0 negatives\n",
        "                [2, 4]] # Full: 2 positives, 4 negatives\n",
        "info_gain_patrons = infogain(pre_patrons, post_patrons)\n",
        "print(\"Information Gain for Patrons:\", info_gain_patrons, \"\\n\\n\\n\\n\")\n",
        "\n",
        "\n",
        "# Total counts before splits for HW table\n",
        "pre = [6, 4] # 6 positives, 4 negatives\n",
        "\n",
        "# For Type attribute\n",
        "post_type = [[3, 2], # RTS: 3 positives, 2 negatives\n",
        "             [3, 0], # OW: 3 positives\n",
        "             [0, 2]] # BG: 2 negatives\n",
        "info_gain_type = infogain(pre, post_type)"
      ],
      "execution_count": null,
      "outputs": []
    },
    {
      "cell_type": "markdown",
      "source": [
        "# Decision Tree\n"
      ],
      "metadata": {
        "id": "yJRcJlr6kEaQ"
      }
    },
    {
      "cell_type": "code",
      "source": [
        "# Testing scikit-learn's decision tree implementation.\n",
        "#\n",
        "#  - scikit-learn's decision tree only allows binary target values.\n",
        "\n",
        "from sklearn import tree\n",
        "import numpy as np\n",
        "\n",
        "clf = tree.DecisionTreeClassifier(criterion=\"entropy\")\n",
        "\n",
        "# Enter your data here. Each row is an instance. Each column is the attribute.\n",
        "# Set the first attribute value that appears in the table to be 0, and the next one as 1.\n",
        "# - for example, for the Commute attribute, 2hr = 0, and 1hr = 1.\n",
        "#\n",
        "# X = [[0,0,0,0],\n",
        "#      [0,0,0,1],\n",
        "#      ... .... ... ]\n",
        "#\n",
        "\n",
        "# mock data, with only 4 instances\n",
        "# - MODIFY this\n",
        "#\n",
        "# Column order: Commute, JobType, Location, StockOption\n",
        "# Values:\n",
        "#    Commute:     2hr=0, 1hr=1\n",
        "#    JobType:     researech=0, development=1\n",
        "#    Location:    westcoast=0, eastcoast=1\n",
        "#    StockOption: yes=1, no=0\n",
        "# Target:         N=0, Y=1\n",
        "X = [[0,0,0,0],\n",
        "     [0,0,0,1],\n",
        "     [1,0,0,0],\n",
        "     [1,1,0,0] ]\n",
        "\n",
        "# Enter the target data (AcceptJob) here. 1 = Yes. 0 = No.\n",
        "# y = [1, 1, .... ]\n",
        "# - MODIFY this\n",
        "\n",
        "y = [ 1,\n",
        "     0,\n",
        "     0,\n",
        "     0 ]\n",
        "clf = clf.fit(X, y)\n",
        "\n",
        "# Note: value=[a,b] means \"a\" negative samples, and \"b\" positive samples [# neg = a, # pos = b].\n",
        "#       *Note that this order is reversed, compared to the lecture slides, where we had [# pos, #neg], so you have to be careful.\n",
        "# Note: left branch is attribute value 0, right branch = attribute value 1.\n",
        "# Note: X[n] means the attribute for the n-th column (n=0 is the first column in),\n",
        "#       so, for the homework problem, X[0] is Commute. X[1] is JobType, etc.\n",
        "\n",
        "tree.plot_tree(clf)\n",
        "\n",
        "# Check if the tree gives the correct answer for the mock dataset above.\n"
      ],
      "metadata": {
        "colab": {
          "base_uri": "https://localhost:8080/",
          "height": 493
        },
        "id": "wpcdESyZkMR4",
        "outputId": "6eff32ea-9eec-4062-fa51-ce063f330e7e"
      },
      "execution_count": null,
      "outputs": [
        {
          "output_type": "execute_result",
          "data": {
            "text/plain": [
              "[Text(0.6, 0.8333333333333334, 'x[0] <= 0.5\\nentropy = 0.811\\nsamples = 4\\nvalue = [3, 1]'),\n",
              " Text(0.4, 0.5, 'x[3] <= 0.5\\nentropy = 1.0\\nsamples = 2\\nvalue = [1, 1]'),\n",
              " Text(0.2, 0.16666666666666666, 'entropy = 0.0\\nsamples = 1\\nvalue = [0, 1]'),\n",
              " Text(0.6, 0.16666666666666666, 'entropy = 0.0\\nsamples = 1\\nvalue = [1, 0]'),\n",
              " Text(0.8, 0.5, 'entropy = 0.0\\nsamples = 2\\nvalue = [2, 0]')]"
            ]
          },
          "metadata": {},
          "execution_count": 4
        },
        {
          "output_type": "display_data",
          "data": {
            "text/plain": [
              "<Figure size 640x480 with 1 Axes>"
            ],
            "image/png": "[encoded data removed]"
          },
          "metadata": {}
        }
      ]
    },
    {
      "cell_type": "markdown",
      "metadata": {
        "id": "OxiThGZIw93m"
      },
      "source": [
        "# Neural Networks: Perceptron\n",
        "\n"
      ]
    },
    {
      "cell_type": "code",
      "metadata": {
        "colab": {
          "base_uri": "https://localhost:8080/",
          "height": 609
        },
        "id": "gVnuj5vTxD0I",
        "outputId": "4ddfdc9e-a86f-4d30-ee94-22dbfdab03a0"
      },
      "source": [
        "'''\n",
        "Implement perceptron in this code cell : implement the perceptron() function\n",
        "\n",
        "Assumptions: 2 input, 1 output perceptron.\n",
        "  Note: 1 bias unit should also be added to the input vector  (fixed value of 1.0).\n",
        "        This is already done in the skeleton code.\n",
        "'''\n",
        "\n",
        "import matplotlib.pyplot as plt\n",
        "import random\n",
        "\n",
        "# example data: AND\n",
        "# -input  : [x,y] values\n",
        "# -target : target values\n",
        "'''\n",
        "  implement this:\n",
        "     add more samples, for OR, XOR, etc.\n",
        "'''\n",
        "input  = np.array(\n",
        "          [[0,0],\n",
        "          [0,1],\n",
        "          [1,0],\n",
        "          [1,1]])\n",
        "target = np.array([\n",
        "          0,\n",
        "          1,\n",
        "          1,\n",
        "          1])\n",
        "\n",
        "BIAS = -1.0\n",
        "\n",
        "#-----------------------------\n",
        "# plot decision boundary function\n",
        "#-----------------------------\n",
        "def plot_decision_boundary(W):\n",
        "  '''\n",
        "  plot the decision boundary for weight vector W\n",
        "  - fully functional\n",
        "  '''\n",
        "\n",
        "  x = np.arange(0.0, 1.0, 0.05)\n",
        "  y = np.arange(1.0, 0.0, -0.05)\n",
        "\n",
        "  xx, yy = np.meshgrid(x, y)\n",
        "\n",
        "  output = W[0]*xx + W[1]*yy + W[2]*BIAS\n",
        "\n",
        "  fig, ax = plt.subplots(1,1)\n",
        "\n",
        "  ax.imshow(output>=0.0, extent=[0,1,0,1])\n",
        "\n",
        "#-----------------------------\n",
        "# perceptron function: implement this\n",
        "#-----------------------------\n",
        "def perceptron(inp, tgt, alpha=0.01, err_target=0.001):\n",
        "  '''\n",
        "  implement this\n",
        "\n",
        "  input:\n",
        "    inp : input vector array\n",
        "    tgt : target output array\n",
        "    alpha : learning rate, default = 0.01\n",
        "    err_target : target error below which to terminate\n",
        "\n",
        "  output: print out #epochs, error, and plot the decision boundary\n",
        "\n",
        "  returns: Weight vector\n",
        "  '''\n",
        "\n",
        "  # compute some common sizes\n",
        "  num_dat = len(tgt)\n",
        "  inp_dim = len(inp[0])+1        # \"+1\" to add bias unit\n",
        "\n",
        "  # add bias to input vectors\n",
        "  inp = np.append(inp, BIAS*np.ones([num_dat,1]), axis=1)\n",
        "\n",
        "  # initialize weight vector : -0.5 ~ 0.5\n",
        "  W = (np.random.rand(inp_dim)-0.5)\n",
        "\n",
        "  n = 0\n",
        "  error = math.inf\n",
        "  while error > err_target:\n",
        "\n",
        "    #--------------\n",
        "    # epoch\n",
        "    #--------------\n",
        "\n",
        "    # randomize input ordering\n",
        "    order = np.arange(num_dat)\n",
        "    np.random.shuffle(order)\n",
        "\n",
        "    # 1. go over each input\n",
        "\n",
        "    total_error = 0.0\n",
        "\n",
        "    for i in order:\n",
        "\n",
        "      print(\"Input (with bias at the end)=\", end='')\n",
        "      print(inp[i], end=', Target=')\n",
        "      print(tgt[i])\n",
        "\n",
        "      # 1.1. activate output unit\n",
        "\n",
        "      # 1.2. compute error\n",
        "\n",
        "      # 1.3. adjust weight, based on the error\n",
        "\n",
        "      # 1.4. keep sum of total_error during this epoch\n",
        "      # total_error = total_error + absolute value of error from 1.2\n",
        "\n",
        "    # 2. compute error for the epoch as the mean error from the current epoch\n",
        "    # error = total_error / number of samples\n",
        "\n",
        "    # increment epoch count\n",
        "    n = n + 1\n",
        "\n",
        "    # forcefully quit, for now\n",
        "    error = 0.00001\n",
        "\n",
        "  # Done with training\n",
        "  print('number of epochs = '+str(n))\n",
        "  print('average error = '+str(error))\n",
        "\n",
        "  # return weight vector\n",
        "  return W\n",
        "\n",
        "#-----------------------------\n",
        "# test perceptron\n",
        "#-----------------------------\n",
        "W = perceptron(input, target, 0.1, 0.001)\n",
        "\n",
        "#-----------------------------\n",
        "# test decision boundary plot: white = 1, black = 0\n",
        "# - Note: if you get totally white of totally black, try\n",
        "#     rerunnning (sometimes more than 10 times) to get a non-trivial result.\n",
        "#-----------------------------\n",
        "print('\\n\\nTesting plot_decision_boundary')\n",
        "print(W)\n",
        "plot_decision_boundary(W)\n"
      ],
      "execution_count": null,
      "outputs": [
        {
          "output_type": "stream",
          "name": "stdout",
          "text": [
            "Input (with bias at the end)=[ 1.  1. -1.], Target=1\n",
            "Input (with bias at the end)=[ 0.  0. -1.], Target=0\n",
            "Input (with bias at the end)=[ 0.  1. -1.], Target=1\n",
            "Input (with bias at the end)=[ 1.  0. -1.], Target=1\n",
            "number of epochs = 1\n",
            "average error = 1e-05\n",
            "\n",
            "\n",
            "Testing plot_decision_boundary\n",
            "[-0.19230697 -0.33561736 -0.45004173]\n"
          ]
        },
        {
          "output_type": "display_data",
          "data": {
            "text/plain": [
              "<Figure size 640x480 with 1 Axes>"
            ],
            "image/png": "[encoded data removed]"
          },
          "metadata": {}
        }
      ]
    },
    {
      "cell_type": "code",
      "metadata": {
        "id": "xtMah5sGGyB3"
      },
      "source": [
        "# Add your test code here, for the homework questions\n"
      ],
      "execution_count": null,
      "outputs": []
    },
    {
      "cell_type": "markdown",
      "metadata": {
        "id": "DDZTMF6uHVmT"
      },
      "source": [
        "# Gradient Descent\n",
        "\n",
        "\n"
      ]
    },
    {
      "cell_type": "code",
      "metadata": {
        "colab": {
          "base_uri": "https://localhost:8080/",
          "height": 465
        },
        "id": "HPtpWFRuHbkn",
        "outputId": "e395effe-732f-4514-d665-0f0b5ce72021"
      },
      "source": [
        "# Implement your program here:\n",
        "\n",
        "# Example program. You can modity/extend this.\n",
        "#\n",
        "# 1. define function\n",
        "# - this is an example (quadratic function) -- you should change it to the function given in problem 4)\n",
        "# - also, you need to check for the termination condition, rather than using a fixed number of steps.\n",
        "def E(w):\n",
        "  '''\n",
        "  implement this\n",
        "  '''\n",
        "  return np.power(w-2.5,2) + 1      # note: np.power() can take scalar or vector as argument.\n",
        "\n",
        "# 2. define derivative function\n",
        "def dEdw(w):\n",
        "  '''\n",
        "  implement this\n",
        "  '''\n",
        "  return 2*(w-2.5)\n",
        "\n",
        "# 3. gradient descent\n",
        "\n",
        "w = 4     # initial value\n",
        "alpha = 0.8   # learning rate  ; try alpha=0.8 and alpha=0.001\n",
        "\n",
        "n = 100\n",
        "\n",
        "w_t = np.zeros(n)   # this is w at step t\n",
        "Ew_t = np.zeros(n)  # this is E(w) at step t\n",
        "\n",
        "for i in range(n):\n",
        "  '''\n",
        "  implement this for-loop\n",
        "  '''\n",
        "  w_t[i]=w\n",
        "  Ew_t[i]=E(w)\n",
        "  # implement this: gradient descent step\n",
        "  # w = ..... + alpha ...\n",
        "\n",
        "# 4. plot E(w) and the gradient descent steps\n",
        "\n",
        "# Note: adjust the range below based on the function you're given in problem 10.\n",
        "#  - right now the x axis in the plot is 0 to 5 with a step size of 0.1.\n",
        "x = np.arange(0,5,0.1)\n",
        "\n",
        "plt.plot(x,E(x),\"-\",w_t,Ew_t,\"*-\")"
      ],
      "execution_count": null,
      "outputs": [
        {
          "output_type": "execute_result",
          "data": {
            "text/plain": [
              "[<matplotlib.lines.Line2D at 0x7f380ef94dc0>,\n",
              " <matplotlib.lines.Line2D at 0x7f380ef94ee0>]"
            ]
          },
          "metadata": {},
          "execution_count": 7
        },
        {
          "output_type": "display_data",
          "data": {
            "text/plain": [
              "<Figure size 640x480 with 1 Axes>"
            ],
            "image/png": "[encoded data removed]"
          },
          "metadata": {}
        }
      ]
    }
  ]
}